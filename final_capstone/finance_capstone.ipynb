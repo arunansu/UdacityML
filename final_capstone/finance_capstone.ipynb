{
 "cells": [
  {
   "cell_type": "markdown",
   "metadata": {
    "collapsed": true
   },
   "source": [
    "# Machine Learning Engineer Nanodegree\n",
    "\n",
    "## Capstone Project in Finance\n",
    "\n",
    "### Predicting Credit Risk\n",
    "\n",
    "#### Introduction\n",
    "\n",
    "Many investment banks trade loan backed securities. If a loan defaults, it leads to devaluation of the securitized product. That is why banks use risk models to identify loans at risk and predict loans that might default in near future. Risk models are also used to decide on approving a loan request by a borrower.\n",
    "\n",
    "#### The Data\n",
    "\n",
    "I will be using data from Lenging Club (https://www.lendingclub.com/info/download-data.action). Lending Club is the world’s largest online marketplace connecting borrowers and investors. \n",
    "\n",
    "The file LoansImputed.csv contains complete loan data for all loans issued through the time period stated. "
   ]
  },
  {
   "cell_type": "code",
   "execution_count": 1,
   "metadata": {
    "collapsed": false
   },
   "outputs": [
    {
     "name": "stdout",
     "output_type": "stream",
     "text": [
      "   credit.policy             purpose  int.rate  installment  log.annual.inc  \\\n",
      "0              1  debt_consolidation    0.1496       194.02       10.714418   \n",
      "1              1           all_other    0.1114       131.22       11.002100   \n",
      "2              1         credit_card    0.1343       678.08       11.884489   \n",
      "3              1           all_other    0.1059        32.55       10.433822   \n",
      "4              1      small_business    0.1501       225.37       12.269047   \n",
      "\n",
      "     dti  fico  days.with.cr.line  revol.bal  revol.util  inq.last.6mths  \\\n",
      "0   4.00   667        3180.041667       3839        76.8               0   \n",
      "1  11.08   722        5116.000000      24220        68.6               0   \n",
      "2  10.15   682        4209.958333      41674        74.1               0   \n",
      "3  14.47   687        1110.000000       4485        36.9               1   \n",
      "4   6.45   677        6240.000000      56411        75.3               0   \n",
      "\n",
      "   delinq.2yrs  pub.rec  not.fully.paid  annualincome  \n",
      "0            0        1               1         45000  \n",
      "1            0        0               1         60000  \n",
      "2            0        0               1        145000  \n",
      "3            0        0               1         33990  \n",
      "4            0        0               1        213000  \n"
     ]
    }
   ],
   "source": [
    "#Import Libraries\n",
    "import pandas as pd\n",
    "\n",
    "#Read data file\n",
    "df = pd.read_csv('LoansImputed.csv')\n",
    "#Print top 5 rows\n",
    "print df.head()"
   ]
  },
  {
   "cell_type": "markdown",
   "metadata": {},
   "source": [
    "#### Variables in the dataset\n",
    "\n",
    "##### Dependent Variable\n",
    "\n",
    "* not.fully.paid: A binary variable. 1 means borrower defaulted and 0 means monthly payments are made on time\n",
    "\n",
    "##### Independent Variables\n",
    "\n",
    "* credit.policy: 1 if borrower meets credit underwriting criteria and 0 otherwise\n",
    "* purpose: The reason for the loan\n",
    "* int.rate: Interest rate for the loan (14% is stored as 0.14)\n",
    "* installment: Monthly payment to be made for the loan\n",
    "* log.annual.inc: Natural log of self reported annual income of the borrower\n",
    "* dti: Debt to Income ratio of the borrower\n",
    "* fico: FICO credit score of the borrower\n",
    "* days.with.cr.line: Number of days borrower has had credit line\n",
    "* revol.bal: The borrower's rovolving balance (Principal loan amount still remaining)\n",
    "* revol.util: Amount of credit line utilized by borrower as percentage of total available credit\n",
    "* inq.last.6mths: Borrowers credit inquiry in last 6 months\n",
    "* delinq.2yrs: Number of times borrower was deliquent in last 2 years\n",
    "* pub.rec: Number of derogatory pulic record borrower has (Bankruptcy, tax liens and judgements etc.)\n",
    "* annualincome: Annual income of borrpwer"
   ]
  },
  {
   "cell_type": "code",
   "execution_count": 2,
   "metadata": {
    "collapsed": false
   },
   "outputs": [
    {
     "name": "stdout",
     "output_type": "stream",
     "text": [
      "       credit.policy     int.rate  installment  log.annual.inc          dti  \\\n",
      "count    5000.000000  5000.000000  5000.000000     5000.000000  5000.000000   \n",
      "mean        0.896200     0.120816   308.325968       10.911819    12.308698   \n",
      "std         0.305031     0.025336   197.307080        0.598897     6.754521   \n",
      "min         0.000000     0.060000    15.690000        7.600902     0.000000   \n",
      "25%         1.000000     0.100800   163.550000       10.545341     7.067500   \n",
      "50%         1.000000     0.121800   260.640000       10.915088    12.300000   \n",
      "75%         1.000000     0.137900   407.510000       11.277203    17.652500   \n",
      "max         1.000000     0.216400   926.830000       14.528354    29.960000   \n",
      "\n",
      "              fico  days.with.cr.line       revol.bal   revol.util  \\\n",
      "count  5000.000000        5000.000000     5000.000000  5000.000000   \n",
      "mean    710.926000        4510.713433    15872.533200    46.395622   \n",
      "std      37.026757        2418.553606    31116.319033    29.138604   \n",
      "min     617.000000         180.041667        0.000000     0.000000   \n",
      "25%     682.000000        2790.041667     3328.500000    22.300000   \n",
      "50%     707.000000        4080.000000     8605.000000    45.700000   \n",
      "75%     737.000000        5640.281250    18155.250000    70.500000   \n",
      "max     827.000000       16259.041670  1207359.000000   106.500000   \n",
      "\n",
      "       inq.last.6mths  delinq.2yrs      pub.rec  not.fully.paid   annualincome  \n",
      "count       5000.0000   5000.00000  5000.000000     5000.000000     5000.00000  \n",
      "mean           1.4068      0.16140     0.066800        0.306600    66260.20820  \n",
      "std            1.9897      0.49699     0.257587        0.461128    56864.18592  \n",
      "min            0.0000      0.00000     0.000000        0.000000     2000.00000  \n",
      "25%            0.0000      0.00000     0.000000        0.000000    38000.00000  \n",
      "50%            1.0000      0.00000     0.000000        0.000000    55000.00000  \n",
      "75%            2.0000      0.00000     0.000000        1.000000    79000.00000  \n",
      "max           33.0000      6.00000     3.000000        1.000000  2039784.00000  \n",
      "       credit.policy     int.rate  installment  log.annual.inc          dti  \\\n",
      "count    1533.000000  1533.000000  1533.000000     1533.000000  1533.000000   \n",
      "mean        0.661448     0.132452   342.785114       10.885023    13.195838   \n",
      "std         0.473372     0.025495   223.948527        0.666718     7.006769   \n",
      "min         0.000000     0.070500    15.910000        7.600902     0.000000   \n",
      "25%         0.000000     0.115400   168.640000       10.491274     7.830000   \n",
      "50%         1.000000     0.131600   287.310000       10.878047    13.340000   \n",
      "75%         1.000000     0.148200   491.300000       11.276633    18.830000   \n",
      "max         1.000000     0.216400   926.830000       13.458836    29.960000   \n",
      "\n",
      "              fico  days.with.cr.line       revol.bal   revol.util  \\\n",
      "count  1533.000000        1533.000000     1533.000000  1533.000000   \n",
      "mean    697.828441        4393.541259    21066.293542    52.255075   \n",
      "std      33.756808        2431.785491    49905.689359    29.057906   \n",
      "min     617.000000         180.041667        0.000000     0.000000   \n",
      "25%     672.000000        2759.958333     3323.000000    29.900000   \n",
      "50%     692.000000        4050.000000     8850.000000    53.900000   \n",
      "75%     717.000000        5580.041667    20616.000000    77.000000   \n",
      "max     822.000000       15692.000000  1207359.000000   106.500000   \n",
      "\n",
      "       inq.last.6mths  delinq.2yrs      pub.rec  not.fully.paid   annualincome  \n",
      "count     1533.000000  1533.000000  1533.000000            1533    1533.000000  \n",
      "mean         2.330724     0.174821     0.091324               1   67360.671885  \n",
      "std          2.933480     0.520562     0.292659               0   59224.859089  \n",
      "min          0.000000     0.000000     0.000000               1    2000.000000  \n",
      "25%          0.000000     0.000000     0.000000               1   36000.000000  \n",
      "50%          1.000000     0.000000     0.000000               1   53000.000000  \n",
      "75%          3.000000     0.000000     0.000000               1   78955.000000  \n",
      "max         33.000000     4.000000     2.000000               1  700000.000000  \n",
      "       credit.policy     int.rate  installment  log.annual.inc          dti  \\\n",
      "count           3467  3467.000000  3467.000000     3467.000000  3467.000000   \n",
      "mean               1     0.115671   293.089201       10.923667    11.916432   \n",
      "std                0     0.023498   182.272593        0.566024     6.603058   \n",
      "min                1     0.060000    15.690000        8.342840     0.000000   \n",
      "25%                1     0.096300   159.920000       10.585573     6.775000   \n",
      "50%                1     0.116600   249.680000       10.915088    11.860000   \n",
      "75%                1     0.131600   394.360000       11.277203    17.120000   \n",
      "max                1     0.208600   914.420000       14.528354    29.420000   \n",
      "\n",
      "              fico  days.with.cr.line      revol.bal   revol.util  \\\n",
      "count  3467.000000        3467.000000    3467.000000  3467.000000   \n",
      "mean    716.717335        4562.523339   13576.013268    43.804753   \n",
      "std      36.935882        2411.216297   16685.502884    28.800678   \n",
      "min     627.000000        1110.000000       0.000000     0.000000   \n",
      "25%     687.000000        2820.000000    3343.000000    18.950000   \n",
      "50%     712.000000        4109.041667    8507.000000    42.100000   \n",
      "75%     742.000000        5669.958333   17448.500000    66.950000   \n",
      "max     827.000000       16259.041670  149527.000000    99.700000   \n",
      "\n",
      "       inq.last.6mths  delinq.2yrs      pub.rec  not.fully.paid  \\\n",
      "count     3467.000000  3467.000000  3467.000000            3467   \n",
      "mean         0.998269     0.155466     0.055956               0   \n",
      "std          1.166961     0.486163     0.239701               0   \n",
      "min          0.000000     0.000000     0.000000               0   \n",
      "25%          0.000000     0.000000     0.000000               0   \n",
      "50%          1.000000     0.000000     0.000000               0   \n",
      "75%          2.000000     0.000000     0.000000               0   \n",
      "max          8.000000     6.000000     3.000000               0   \n",
      "\n",
      "         annualincome  \n",
      "count     3467.000000  \n",
      "mean     65773.617248  \n",
      "std      55790.362442  \n",
      "min       4200.000000  \n",
      "25%      39560.000000  \n",
      "50%      55000.000000  \n",
      "75%      79000.000000  \n",
      "max    2039784.000000  \n",
      "Number of loans that have 70% credit utilization and defaulted: \n",
      "784\n"
     ]
    }
   ],
   "source": [
    "#Print statistics of variables\n",
    "print df.describe()\n",
    "print df[df['not.fully.paid'] == 1].describe()\n",
    "print df[df['not.fully.paid'] == 0].describe()\n",
    "print \"Number of loans that have 70% credit utilization and defaulted: \"\n",
    "print len(df[(df['revol.util'] > 70.00) & (df['not.fully.paid'] == 0)])"
   ]
  },
  {
   "cell_type": "code",
   "execution_count": 3,
   "metadata": {
    "collapsed": false
   },
   "outputs": [],
   "source": [
    "#plot correlation between each feature\n",
    "import matplotlib.pyplot as plt\n",
    "import matplotlib\n",
    "matplotlib.style.use('ggplot')\n",
    "from pandas.tools.plotting import scatter_matrix\n",
    "scatter_matrix(df, alpha=0.2, figsize=(6, 6), diagonal='kde')\n",
    "plt.show()"
   ]
  },
  {
   "cell_type": "code",
   "execution_count": 4,
   "metadata": {
    "collapsed": false,
    "scrolled": true
   },
   "outputs": [
    {
     "name": "stdout",
     "output_type": "stream",
     "text": [
      "['debt_consolidation' 'all_other' 'credit_card' 'small_business'\n",
      " 'home_improvement' 'educational' 'major_purchase']\n",
      "purpose converted to factors\n",
      "   credit.policy  purpose  int.rate  installment  log.annual.inc    dti  fico  \\\n",
      "0              1        2    0.1496       194.02       10.714418   4.00   667   \n",
      "1              1        0    0.1114       131.22       11.002100  11.08   722   \n",
      "2              1        1    0.1343       678.08       11.884489  10.15   682   \n",
      "3              1        0    0.1059        32.55       10.433822  14.47   687   \n",
      "4              1        6    0.1501       225.37       12.269047   6.45   677   \n",
      "\n",
      "   days.with.cr.line  revol.bal  revol.util  inq.last.6mths  delinq.2yrs  \\\n",
      "0        3180.041667       3839        76.8               0            0   \n",
      "1        5116.000000      24220        68.6               0            0   \n",
      "2        4209.958333      41674        74.1               0            0   \n",
      "3        1110.000000       4485        36.9               1            0   \n",
      "4        6240.000000      56411        75.3               0            0   \n",
      "\n",
      "   pub.rec  not.fully.paid  annualincome  \n",
      "0        1               1         45000  \n",
      "1        0               1         60000  \n",
      "2        0               1        145000  \n",
      "3        0               1         33990  \n",
      "4        0               1        213000  \n",
      "not.fully.paid as label\n",
      "0    1\n",
      "1    1\n",
      "2    1\n",
      "3    1\n",
      "4    1\n",
      "Name: not.fully.paid, dtype: int64\n",
      "not.fully.paid removed from features\n",
      "   credit.policy  purpose  int.rate  installment  log.annual.inc    dti  fico  \\\n",
      "0              1        2    0.1496       194.02       10.714418   4.00   667   \n",
      "1              1        0    0.1114       131.22       11.002100  11.08   722   \n",
      "2              1        1    0.1343       678.08       11.884489  10.15   682   \n",
      "3              1        0    0.1059        32.55       10.433822  14.47   687   \n",
      "4              1        6    0.1501       225.37       12.269047   6.45   677   \n",
      "\n",
      "   days.with.cr.line  revol.bal  revol.util  inq.last.6mths  delinq.2yrs  \\\n",
      "0        3180.041667       3839        76.8               0            0   \n",
      "1        5116.000000      24220        68.6               0            0   \n",
      "2        4209.958333      41674        74.1               0            0   \n",
      "3        1110.000000       4485        36.9               1            0   \n",
      "4        6240.000000      56411        75.3               0            0   \n",
      "\n",
      "   pub.rec  annualincome  \n",
      "0        1         45000  \n",
      "1        0         60000  \n",
      "2        0        145000  \n",
      "3        0         33990  \n",
      "4        0        213000  \n",
      "[  3.40326844e-01  -2.27302087e-04   1.13619619e+00  -5.79388231e-01\n",
      "  -3.29640681e-01  -1.23021742e+00  -1.18644994e+00  -5.50248235e-01\n",
      "  -3.86766080e-01   1.04354413e+00  -7.07112026e-01  -3.24787256e-01\n",
      "   3.62321686e+00  -3.73914340e-01]\n"
     ]
    },
    {
     "name": "stderr",
     "output_type": "stream",
     "text": [
      "C:\\PAT\\Programs\\Anaconda2\\lib\\site-packages\\sklearn\\utils\\validation.py:386: DeprecationWarning: Passing 1d arrays as data is deprecated in 0.17 and willraise ValueError in 0.19. Reshape your data either using X.reshape(-1, 1) if your data has a single feature or X.reshape(1, -1) if it contains a single sample.\n",
      "  DeprecationWarning)\n"
     ]
    }
   ],
   "source": [
    "from sklearn import preprocessing\n",
    "from sklearn.preprocessing import OneHotEncoder\n",
    "\n",
    "#Print unique values of purpose\n",
    "print pd.Series.unique(df['purpose'])\n",
    "# Convert purpose to category\n",
    "df['purpose'] = pd.Categorical.from_array(df['purpose']).codes\n",
    "print \"purpose converted to factors\"\n",
    "print df.head()\n",
    "\n",
    "#extract dependent variable as label\n",
    "Y = df['not.fully.paid']\n",
    "#Drop dependent variable and categorical variable\n",
    "X = df.drop('not.fully.paid', 1)\n",
    "\n",
    "print \"not.fully.paid as label\"\n",
    "print Y.head()\n",
    "print \"not.fully.paid removed from features\"\n",
    "print X.head()\n",
    "\n",
    "#One Hot Encode purpose\n",
    "enc = OneHotEncoder()\n",
    "df['purpose'] = enc.fit(df['purpose'])\n",
    "\n",
    "#scale dependent variable\n",
    "X = preprocessing.scale(X)\n",
    "\n",
    "#print first row of X\n",
    "print X[0]"
   ]
  },
  {
   "cell_type": "code",
   "execution_count": 5,
   "metadata": {
    "collapsed": false
   },
   "outputs": [
    {
     "name": "stdout",
     "output_type": "stream",
     "text": [
      "Feature ranking:\n",
      "1. feature 0 (0.215506)\n",
      "2. feature 2 (0.096978)\n",
      "3. feature 3 (0.077505)\n",
      "4. feature 6 (0.071775)\n",
      "5. feature 9 (0.070654)\n",
      "6. feature 8 (0.068685)\n",
      "7. feature 5 (0.067838)\n",
      "8. feature 7 (0.067469)\n",
      "9. feature 4 (0.066262)\n",
      "10. feature 13 (0.063575)\n",
      "11. feature 10 (0.061159)\n",
      "12. feature 1 (0.043079)\n",
      "13. feature 11 (0.019153)\n",
      "14. feature 12 (0.010361)\n"
     ]
    }
   ],
   "source": [
    "import numpy as np\n",
    "import matplotlib.pyplot as plt\n",
    "\n",
    "from sklearn.ensemble import ExtraTreesClassifier\n",
    "\n",
    "# Build a forest and compute the feature importances\n",
    "forest = ExtraTreesClassifier(n_estimators=250, random_state=0)\n",
    "\n",
    "forest.fit(X, Y)\n",
    "importances = forest.feature_importances_\n",
    "std = np.std([tree.feature_importances_ for tree in forest.estimators_], axis=0)\n",
    "indices = np.argsort(importances)[::-1]\n",
    "\n",
    "# Print the feature ranking\n",
    "print(\"Feature ranking:\")\n",
    "\n",
    "for f in range(X.shape[1]):\n",
    "    print(\"%d. feature %d (%f)\" % (f + 1, indices[f], importances[indices[f]]))\n",
    "\n",
    "# Plot the feature importances of the forest\n",
    "plt.figure()\n",
    "plt.title(\"Feature importances\")\n",
    "plt.bar(range(X.shape[1]), importances[indices], color=\"r\", yerr=std[indices], align=\"center\")\n",
    "plt.xticks(range(X.shape[1]), indices)\n",
    "plt.xlim([-1, X.shape[1]])\n",
    "plt.show()"
   ]
  },
  {
   "cell_type": "code",
   "execution_count": 10,
   "metadata": {
    "collapsed": false
   },
   "outputs": [],
   "source": [
    "#Shuffle and split data into 70% in training and 30% in testing\n",
    "from sklearn.cross_validation import train_test_split\n",
    "X_train, X_test, Y_train, Y_test = train_test_split(X, Y, test_size=0.3, random_state=42)"
   ]
  },
  {
   "cell_type": "code",
   "execution_count": 11,
   "metadata": {
    "collapsed": false
   },
   "outputs": [
    {
     "name": "stdout",
     "output_type": "stream",
     "text": [
      "LogisticRegression accuracy in training set: 0.806857142857\n",
      "LogisticRegression accuracy in testing set: 0.787333333333\n",
      "Logistic Regression F1 Score: 0.530191458027\n"
     ]
    }
   ],
   "source": [
    "#Using Logistic Regression\n",
    "from sklearn import metrics\n",
    "from sklearn import linear_model\n",
    "\n",
    "# fit an Extra Trees model to the data\n",
    "logreg = linear_model.LogisticRegression()\n",
    "logreg.fit(X_train, Y_train)\n",
    "\n",
    "print \"LogisticRegression accuracy in training set: {0}\".format(logreg.score(X_train, Y_train))\n",
    "\n",
    "#Predict using the logistic regression model\n",
    "Y_pred = logreg.predict(X_test)\n",
    "print \"LogisticRegression accuracy in testing set: {0}\".format(metrics.accuracy_score(Y_test, Y_pred))\n",
    "\n",
    "print \"Logistic Regression F1 Score: {0}\".format(metrics.f1_score(Y_test, Y_pred))"
   ]
  },
  {
   "cell_type": "code",
   "execution_count": 12,
   "metadata": {
    "collapsed": false
   },
   "outputs": [
    {
     "name": "stdout",
     "output_type": "stream",
     "text": [
      "SVM accuracy in training set: 0.810571428571\n",
      "SVM accuracy in testing set: 0.790666666667\n",
      "SVM F1 score in testing set: 0.516923076923\n"
     ]
    }
   ],
   "source": [
    "#Using Support Vector Machine\n",
    "from sklearn import metrics\n",
    "from sklearn import svm\n",
    "\n",
    "# fit an Extra Trees model to the data\n",
    "clm = svm.SVC(probability=True)\n",
    "clm.fit(X_train, Y_train)\n",
    "\n",
    "print \"SVM accuracy in training set: {0}\".format(clm.score(X_train, Y_train))\n",
    "\n",
    "#Predict using the logistic regression model\n",
    "Y_pred = clm.predict(X_test)\n",
    "\n",
    "#accuracy score\n",
    "print \"SVM accuracy in testing set: {0}\".format(metrics.accuracy_score(Y_test, Y_pred))\n",
    "#auc score\n",
    "print \"SVM F1 score in testing set: {0}\".format(metrics.f1_score(Y_test, Y_pred))"
   ]
  },
  {
   "cell_type": "code",
   "execution_count": 13,
   "metadata": {
    "collapsed": false
   },
   "outputs": [
    {
     "name": "stdout",
     "output_type": "stream",
     "text": [
      "ExtraTreeClassifier accuracy in training set: 1.0\n",
      "ExtraTreeClassifier accuracy in testing set: 0.781333333333\n",
      "ExtraTreeClassifier F1 score in testing set: 0.67818627451\n"
     ]
    }
   ],
   "source": [
    "from sklearn import metrics\n",
    "from sklearn.ensemble import ExtraTreesClassifier\n",
    "\n",
    "# fit an Extra Trees model to the data\n",
    "model = ExtraTreesClassifier()\n",
    "model.fit(X_train, Y_train)\n",
    "\n",
    "print \"ExtraTreeClassifier accuracy in training set: {0}\".format(model.score(X_train, Y_train))\n",
    "\n",
    "#Predict using the logistic regression model\n",
    "Y_pred = model.predict(X_test)\n",
    "\n",
    "print \"ExtraTreeClassifier accuracy in testing set: {0}\".format(metrics.accuracy_score(Y_test, Y_pred))\n",
    "print \"ExtraTreeClassifier F1 score in testing set: {0}\".format(metrics.roc_auc_score(Y_test, Y_pred))"
   ]
  },
  {
   "cell_type": "code",
   "execution_count": 11,
   "metadata": {
    "collapsed": false
   },
   "outputs": [],
   "source": [
    "from sklearn.metrics import roc_curve, auc\n",
    "\n",
    "false_positive_rate, true_positive_rate, thresholds = roc_curve(Y_test, Y_pred)\n",
    "roc_auc = auc(false_positive_rate, true_positive_rate)\n",
    "\n",
    "plt.title('ROC Curve')\n",
    "plt.plot(false_positive_rate, true_positive_rate, 'b',\n",
    "label='AUC = %0.2f'% roc_auc)\n",
    "plt.legend(loc='lower right')\n",
    "plt.plot([0,1],[0,1],'r--')\n",
    "plt.xlim([-0.1,1.2])\n",
    "plt.ylim([-0.1,1.2])\n",
    "plt.ylabel('True Positive Rate')\n",
    "plt.xlabel('False Positive Rate')\n",
    "plt.show()"
   ]
  },
  {
   "cell_type": "markdown",
   "metadata": {
    "collapsed": true
   },
   "source": [
    "#### Conclusion\n",
    "Our model has an accuracy of 70%. This model can be used to predict loans that will be at risk. This can be used to decide whether to approve a loan or not and proactive action can be taken on existing loans that are likely to default."
   ]
  }
 ],
 "metadata": {
  "kernelspec": {
   "display_name": "Python 2",
   "language": "python",
   "name": "python2"
  },
  "language_info": {
   "codemirror_mode": {
    "name": "ipython",
    "version": 2
   },
   "file_extension": ".py",
   "mimetype": "text/x-python",
   "name": "python",
   "nbconvert_exporter": "python",
   "pygments_lexer": "ipython2",
   "version": "2.7.11"
  }
 },
 "nbformat": 4,
 "nbformat_minor": 0
}
