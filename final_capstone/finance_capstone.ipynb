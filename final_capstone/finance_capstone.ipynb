{
 "cells": [
  {
   "cell_type": "markdown",
   "metadata": {
    "collapsed": true
   },
   "source": [
    "# Machine Learning Engineer Nanodegree\n",
    "\n",
    "## Capstone Project in Finance\n",
    "\n",
    "### Predicting Credit Risk\n",
    "\n",
    "#### Introduction\n",
    "\n",
    "Many investment banks trade loan backed securities. If a loan defaults, it leads to devaluation of the securitized product. That is why banks use risk models to identify loans at risk and predict loans that might default in near future. Risk models are also used to decide on approving a loan request by a borrower.\n",
    "\n",
    "#### The Data\n",
    "\n",
    "I will be using data from Lenging Club (https://www.lendingclub.com/info/download-data.action). Lending Club is the world’s largest online marketplace connecting borrowers and investors. \n",
    "\n",
    "The file LoansImputed.csv contains complete loan data for all loans issued through the time period stated. "
   ]
  },
  {
   "cell_type": "code",
   "execution_count": 1,
   "metadata": {
    "collapsed": false
   },
   "outputs": [
    {
     "name": "stdout",
     "output_type": "stream",
     "text": [
      "   credit.policy             purpose  int.rate  installment  log.annual.inc  \\\n",
      "0              1  debt_consolidation    0.1496       194.02       10.714418   \n",
      "1              1           all_other    0.1114       131.22       11.002100   \n",
      "2              1         credit_card    0.1343       678.08       11.884489   \n",
      "3              1           all_other    0.1059        32.55       10.433822   \n",
      "4              1      small_business    0.1501       225.37       12.269047   \n",
      "\n",
      "     dti  fico  days.with.cr.line  revol.bal  revol.util  inq.last.6mths  \\\n",
      "0   4.00   667        3180.041667       3839        76.8               0   \n",
      "1  11.08   722        5116.000000      24220        68.6               0   \n",
      "2  10.15   682        4209.958333      41674        74.1               0   \n",
      "3  14.47   687        1110.000000       4485        36.9               1   \n",
      "4   6.45   677        6240.000000      56411        75.3               0   \n",
      "\n",
      "   delinq.2yrs  pub.rec  not.fully.paid  annualincome  \n",
      "0            0        1               1         45000  \n",
      "1            0        0               1         60000  \n",
      "2            0        0               1        145000  \n",
      "3            0        0               1         33990  \n",
      "4            0        0               1        213000  \n"
     ]
    }
   ],
   "source": [
    "#Import Libraries\n",
    "import pandas as pd\n",
    "\n",
    "#Read data file\n",
    "df = pd.read_csv('LoansImputed.csv')\n",
    "#Print top 5 rows\n",
    "print df.head()"
   ]
  },
  {
   "cell_type": "markdown",
   "metadata": {},
   "source": [
    "#### Variables in the dataset\n",
    "\n",
    "##### Dependent Variable\n",
    "\n",
    "* not.fully.paid: A binary variable. 1 means borrower defaulted and 0 means monthly payments are made on time\n",
    "\n",
    "##### Independent Variables\n",
    "\n",
    "* credit.policy: 1 if borrower meets credit underwriting criteria and 0 otherwise\n",
    "* purpose: The reason for the loan\n",
    "* int.rate: Interest rate for the loan (14% is stored as 0.14)\n",
    "* installment: Monthly payment to be made for the loan\n",
    "* log.annual.inc: Natural log of self reported annual income of the borrower\n",
    "* dti: Debt to Income ratio of the borrower\n",
    "* fico: FICO credit score of the borrower\n",
    "* days.with.cr.line: Number of days borrower has had credit line\n",
    "* revol.bal: The borrower's rovolving balance (Principal loan amount still remaining)\n",
    "* revol.util: Amount of credit line utilized by borrower as percentage of total available credit\n",
    "* inq.last.6mths: Borrowers credit inquiry in last 6 months\n",
    "* delinq.2yrs: Number of times borrower was deliquent in last 2 years\n",
    "* pub.rec: Number of derogatory pulic record borrower has (Bankruptcy, tax liens and judgements etc.)"
   ]
  },
  {
   "cell_type": "code",
   "execution_count": 2,
   "metadata": {
    "collapsed": false
   },
   "outputs": [
    {
     "name": "stdout",
     "output_type": "stream",
     "text": [
      "purpose converted to factors\n",
      "   credit.policy  purpose  int.rate  installment  log.annual.inc    dti  fico  \\\n",
      "0              1        2    0.1496       194.02       10.714418   4.00   667   \n",
      "1              1        0    0.1114       131.22       11.002100  11.08   722   \n",
      "2              1        1    0.1343       678.08       11.884489  10.15   682   \n",
      "3              1        0    0.1059        32.55       10.433822  14.47   687   \n",
      "4              1        6    0.1501       225.37       12.269047   6.45   677   \n",
      "\n",
      "   days.with.cr.line  revol.bal  revol.util  inq.last.6mths  delinq.2yrs  \\\n",
      "0        3180.041667       3839        76.8               0            0   \n",
      "1        5116.000000      24220        68.6               0            0   \n",
      "2        4209.958333      41674        74.1               0            0   \n",
      "3        1110.000000       4485        36.9               1            0   \n",
      "4        6240.000000      56411        75.3               0            0   \n",
      "\n",
      "   pub.rec  not.fully.paid  annualincome  \n",
      "0        1               1         45000  \n",
      "1        0               1         60000  \n",
      "2        0               1        145000  \n",
      "3        0               1         33990  \n",
      "4        0               1        213000  \n",
      "not.fully.paid as label\n",
      "0    1\n",
      "1    1\n",
      "2    1\n",
      "3    1\n",
      "4    1\n",
      "Name: not.fully.paid, dtype: int64\n",
      "not.fully.paid removed from features\n",
      "   credit.policy  purpose  int.rate  installment  log.annual.inc    dti  fico  \\\n",
      "0              1        2    0.1496       194.02       10.714418   4.00   667   \n",
      "1              1        0    0.1114       131.22       11.002100  11.08   722   \n",
      "2              1        1    0.1343       678.08       11.884489  10.15   682   \n",
      "3              1        0    0.1059        32.55       10.433822  14.47   687   \n",
      "4              1        6    0.1501       225.37       12.269047   6.45   677   \n",
      "\n",
      "   days.with.cr.line  revol.bal  revol.util  inq.last.6mths  delinq.2yrs  \\\n",
      "0        3180.041667       3839        76.8               0            0   \n",
      "1        5116.000000      24220        68.6               0            0   \n",
      "2        4209.958333      41674        74.1               0            0   \n",
      "3        1110.000000       4485        36.9               1            0   \n",
      "4        6240.000000      56411        75.3               0            0   \n",
      "\n",
      "   pub.rec  annualincome  \n",
      "0        1         45000  \n",
      "1        0         60000  \n",
      "2        0        145000  \n",
      "3        0         33990  \n",
      "4        0        213000  \n"
     ]
    }
   ],
   "source": [
    "# Convert purpose to category\n",
    "df['purpose'] = pd.Categorical.from_array(df['purpose']).codes\n",
    "print \"purpose converted to factors\"\n",
    "print df.head()\n",
    "\n",
    "#extract dependent variable as label\n",
    "Y = df['not.fully.paid']\n",
    "X = df.drop('not.fully.paid', 1)\n",
    "print \"not.fully.paid as label\"\n",
    "print Y.head()\n",
    "print \"not.fully.paid removed from features\"\n",
    "print X.head()"
   ]
  },
  {
   "cell_type": "code",
   "execution_count": 6,
   "metadata": {
    "collapsed": false
   },
   "outputs": [
    {
     "name": "stdout",
     "output_type": "stream",
     "text": [
      "Shape of X: \n",
      "(5000, 14)\n",
      "New shape of X\n",
      "(5000L, 4L)\n"
     ]
    }
   ],
   "source": [
    "#Select only important features\n",
    "from sklearn.feature_selection import SelectKBest\n",
    "from sklearn.feature_selection import chi2\n",
    "print \"Shape of X: \"\n",
    "print X.shape\n",
    "X_imp = SelectKBest(chi2, k=4).fit_transform(X, Y)\n",
    "print \"New shape of X\"\n",
    "print X_imp.shape"
   ]
  },
  {
   "cell_type": "code",
   "execution_count": 7,
   "metadata": {
    "collapsed": false
   },
   "outputs": [],
   "source": [
    "#Shuffle and split data into 70% in training and 30% in testing\n",
    "from sklearn.cross_validation import train_test_split\n",
    "X_train, X_test, Y_train, Y_test = train_test_split(X_imp, Y, test_size=0.3, random_state=42)"
   ]
  },
  {
   "cell_type": "code",
   "execution_count": 8,
   "metadata": {
    "collapsed": false
   },
   "outputs": [],
   "source": [
    "#Mean Squared Error to be used to measure model performance\n",
    "from sklearn.metrics import mean_squared_error\n",
    "def performance_metric(y_true, y_predict):\n",
    "    error = mean_squared_error(y_true, y_predict)\n",
    "    return error"
   ]
  },
  {
   "cell_type": "code",
   "execution_count": 10,
   "metadata": {
    "collapsed": false
   },
   "outputs": [
    {
     "name": "stdout",
     "output_type": "stream",
     "text": [
      "Model Accuracy:\n",
      "0.704285714286\n",
      "0.69\n",
      "0.572142565359\n"
     ]
    }
   ],
   "source": [
    "import numpy as np\n",
    "import matplotlib.pyplot as plt\n",
    "from sklearn import linear_model\n",
    "from sklearn import metrics\n",
    "\n",
    "#Model using Logistic Regression\n",
    "logreg = linear_model.LogisticRegression()\n",
    "logreg.fit(X_train, Y_train)\n",
    "print \"Model Accuracy:\"\n",
    "print logreg.score(X_train, Y_train)\n",
    "\n",
    "#Predict using the logistic regression model\n",
    "Y_pred = logreg.predict(X_test)\n",
    "#probability of the predicted labels\n",
    "Y_prob = logreg.predict_proba(X_test)\n",
    "\n",
    "#accuracy score\n",
    "print metrics.accuracy_score(Y_test, Y_pred)\n",
    "#auc score\n",
    "print metrics.roc_auc_score(Y_test, Y_prob[:,1])"
   ]
  },
  {
   "cell_type": "markdown",
   "metadata": {
    "collapsed": true
   },
   "source": [
    "#### Conclusion\n",
    "Our model has an accuracy of 70%. This model can be used to predict loans that will be at risk. This can be used to decide whether to approve a loan or not and proactive action can be taken on existing loans that are likely to default."
   ]
  }
 ],
 "metadata": {
  "kernelspec": {
   "display_name": "Python 2",
   "language": "python",
   "name": "python2"
  },
  "language_info": {
   "codemirror_mode": {
    "name": "ipython",
    "version": 2
   },
   "file_extension": ".py",
   "mimetype": "text/x-python",
   "name": "python",
   "nbconvert_exporter": "python",
   "pygments_lexer": "ipython2",
   "version": "2.7.11"
  }
 },
 "nbformat": 4,
 "nbformat_minor": 0
}
